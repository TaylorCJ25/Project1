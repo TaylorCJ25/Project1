{
 "cells": [
  {
   "cell_type": "markdown",
   "source": [
    "# IS 362 – Project 1\n",
    "## Spring Semester 2022\n",
    "### Taylor Clark Jones\n",
    "\n",
    "#### Assignment\n",
    "\n",
    "1. Create a .CSV file (or optionally, a MySQL database!) that includes all of the information below. You may change\n",
    "the structure of the information as you like.\n",
    "2. Read the information from your .CSV file into pandas, and perform analysis to compare the arrival delays for the\n",
    "two airlines.\n",
    "3. Your code should be in a Jupyter (IPython) notebook (in GitHub), and should include narrative descriptions of your\n",
    "analysis and conclusions."
   ],
   "metadata": {
    "collapsed": false
   }
  },
  {
   "cell_type": "markdown",
   "source": [
    "##### The following Notebook will outline the process takes to determine the flight delays of each airline and compare that data to determine which airline can be considered most reliable."
   ],
   "metadata": {
    "collapsed": false
   }
  },
  {
   "cell_type": "code",
   "execution_count": 68,
   "outputs": [],
   "source": [
    "import pandas as pd"
   ],
   "metadata": {
    "collapsed": false,
    "pycharm": {
     "name": "#%%\n"
    }
   }
  },
  {
   "cell_type": "code",
   "execution_count": 69,
   "outputs": [],
   "source": [
    "#Read data from csv file to compose table\n",
    "airline_data=pd.read_csv(\"Directory/Project1.cvs\")\n",
    "\n"
   ],
   "metadata": {
    "collapsed": false,
    "pycharm": {
     "name": "#%%\n"
    }
   }
  },
  {
   "cell_type": "code",
   "execution_count": 70,
   "outputs": [
    {
     "name": "stdout",
     "output_type": "stream",
     "text": [
      "            City  Alaska_On_Time  Alaska_Delay  AM West_On_Time  AM West_Delay\n",
      "0    Los Angeles             497            62              694            117\n",
      "1        Phoenix             221            12             4840            415\n",
      "2      San Diego             212            20              383             65\n",
      "3  San Francisco             503           102              320            129\n",
      "4        Seattle            1841           305              201             61\n"
     ]
    }
   ],
   "source": [
    "#Display the implemented data for a visual of the table\n",
    "print (airline_data)"
   ],
   "metadata": {
    "collapsed": false,
    "pycharm": {
     "name": "#%%\n"
    }
   }
  },
  {
   "cell_type": "code",
   "execution_count": 71,
   "outputs": [
    {
     "data": {
      "text/plain": "0    11.091234\n1     5.150215\n2     8.620690\n3    16.859504\n4    14.212488\nName: Alaska_Percent_Delay, dtype: float64"
     },
     "execution_count": 71,
     "metadata": {},
     "output_type": "execute_result"
    }
   ],
   "source": [
    "#Caluclate Alaska Airlines total flights\n",
    "#Per the project requirements I will also be fining the percentage of Alaska flights delayed to compare to AM West.\n",
    "\n",
    "airline_data['Total_Alaska_Flights'] = airline_data['Alaska_On_Time'] + airline_data['Alaska_Delay']\n",
    "\n",
    "airline_data['Alaska_Percent_Delay'] = (airline_data['Alaska_Delay'] / airline_data['Total_Alaska_Flights']) * 100\n",
    "\n",
    "airline_data['Alaska_Percent_Delay']"
   ],
   "metadata": {
    "collapsed": false,
    "pycharm": {
     "name": "#%%\n"
    }
   }
  },
  {
   "cell_type": "code",
   "execution_count": 72,
   "outputs": [
    {
     "data": {
      "text/plain": "0    14.426634\n1     7.897241\n2    14.508929\n3    28.730512\n4    23.282443\nName: AM West_Percent_Delay, dtype: float64"
     },
     "execution_count": 72,
     "metadata": {},
     "output_type": "execute_result"
    }
   ],
   "source": [
    "#I repeat the same coding process as shown above to calculate AM West.\n",
    "\n",
    "airline_data['Total_AM West'] = airline_data['AM West_Delay'] + airline_data['AM West_On_Time']\n",
    "\n",
    "airline_data['AM West_Percent_Delay'] = (airline_data['AM West_Delay'] / airline_data['Total_AM West']) * 100\n",
    "\n",
    "airline_data['AM West_Percent_Delay']"
   ],
   "metadata": {
    "collapsed": false,
    "pycharm": {
     "name": "#%%\n"
    }
   }
  },
  {
   "cell_type": "code",
   "execution_count": 73,
   "outputs": [
    {
     "name": "stdout",
     "output_type": "stream",
     "text": [
      "   Alaska_Percent_Delay  AM West_Percent_Delay\n",
      "0             11.091234              14.426634\n",
      "1              5.150215               7.897241\n",
      "2              8.620690              14.508929\n",
      "3             16.859504              28.730512\n",
      "4             14.212488              23.282443\n"
     ]
    }
   ],
   "source": [
    "# With the gathered data I can now compare the delay rates both airlines have experienced with the 5 Cities\n",
    "#This comparison shows that AM West has experienced more delays within the five Cities.\n",
    "print (airline_data[['Alaska_Percent_Delay', 'AM West_Percent_Delay']])\n"
   ],
   "metadata": {
    "collapsed": false,
    "pycharm": {
     "name": "#%%\n"
    }
   }
  },
  {
   "cell_type": "code",
   "execution_count": 74,
   "outputs": [],
   "source": [
    "for index, row in airline_data.iterrows():\n",
    "    if row[\"Alaska_Percent_Delay\"] > row[\"AM West_Percent_Delay\"]:\n",
    "        airline_data.loc[index, 'Most_Delayed_Airline'] = 'Alaska'\n",
    "    else:\n",
    "        airline_data.loc[index, 'Most_Delayed_Airline'] = 'AMWest'"
   ],
   "metadata": {
    "collapsed": false,
    "pycharm": {
     "name": "#%%\n"
    }
   }
  },
  {
   "cell_type": "code",
   "execution_count": 75,
   "outputs": [
    {
     "name": "stdout",
     "output_type": "stream",
     "text": [
      "0    AMWest\n",
      "1    AMWest\n",
      "2    AMWest\n",
      "3    AMWest\n",
      "4    AMWest\n",
      "Name: Most_Delayed_Airline, dtype: object\n"
     ]
    }
   ],
   "source": [
    "print (airline_data['Most_Delayed_Airline'])"
   ],
   "metadata": {
    "collapsed": false,
    "pycharm": {
     "name": "#%%\n"
    }
   }
  },
  {
   "cell_type": "markdown",
   "source": [
    "# Conclusion\n",
    "## Having cross-examined the flights of both Alaska and Am West, Am West is the airline with more delays. And while AM West has made a total of 7,225 flights compared to Alaska 3,775 total flights, most of those flights have experinced a delay making Alaska airlines appear more reliable. "
   ],
   "metadata": {
    "collapsed": false
   }
  }
 ],
 "metadata": {
  "kernelspec": {
   "display_name": "Python 3",
   "language": "python",
   "name": "python3"
  },
  "language_info": {
   "codemirror_mode": {
    "name": "ipython",
    "version": 2
   },
   "file_extension": ".py",
   "mimetype": "text/x-python",
   "name": "python",
   "nbconvert_exporter": "python",
   "pygments_lexer": "ipython2",
   "version": "2.7.6"
  }
 },
 "nbformat": 4,
 "nbformat_minor": 0
}